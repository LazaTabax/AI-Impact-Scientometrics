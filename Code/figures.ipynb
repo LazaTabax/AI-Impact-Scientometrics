{
 "cells": [
  {
   "cell_type": "code",
   "execution_count": null,
   "metadata": {},
   "outputs": [],
   "source": [
    "import matplotlib.pyplot as plt\n",
    "import pandas as pd\n",
    "import numpy as np\n",
    "import seaborn as sns\n",
    "\n",
    "plt.rcParams[\"figure.figsize\"] = (10,6)\n",
    "#plt.rcParams[\"xtick.labelsize\"] = 7"
   ]
  },
  {
   "cell_type": "markdown",
   "metadata": {},
   "source": [
    "Yearly Citations Figure"
   ]
  },
  {
   "cell_type": "code",
   "execution_count": null,
   "metadata": {},
   "outputs": [],
   "source": [
    "dfYC = pd.read_csv('../Data/YearlyCitations.csv')\n",
    "\n",
    "dfYCEdu = pd.DataFrame(columns = ['Year','Citations','Type'])\n",
    "dfYCEdu['Citations'] = dfYC['Education']\n",
    "dfYCEdu['Year'] = dfYC['Year']\n",
    "dfYCEdu['Type'] = ['Education' for x in range(len(dfYCEdu.index))]\n",
    "\n",
    "dfYCCom = pd.DataFrame(columns = ['Year','Citations','Type'])\n",
    "dfYCCom['Citations'] = dfYC['Company']\n",
    "dfYCCom['Year'] = dfYC['Year']\n",
    "dfYCCom['Type'] = ['Company' for x in range(len(dfYCCom.index))]\n",
    "\n",
    "dfYCBoth = pd.DataFrame(columns = ['Year','Citations','Type'])\n",
    "dfYCBoth['Citations'] = dfYC['Cooperation']\n",
    "dfYCBoth['Year'] = dfYC['Year']\n",
    "dfYCBoth['Type'] = ['Cooperation' for x in range(len(dfYCBoth.index))]\n",
    "\n",
    "dfYCAll = pd.concat([dfYCEdu, dfYCCom, dfYCBoth], ignore_index=True)\n",
    "\n",
    "# Yearly Citations Lineplot\n",
    "ax = sns.lineplot(data=dfYCAll,\n",
    "            x='Year',\n",
    "            y='Citations',\n",
    "            hue='Type',\n",
    "            marker='o',\n",
    "            linewidth = 3.5,\n",
    "            palette=['tab:blue','tab:orange','tab:grey']\n",
    "            )\n",
    "sns.set(font_scale=1.75)\n",
    "plt.xlabel(\"\")\n",
    "plt.show()"
   ]
  },
  {
   "cell_type": "markdown",
   "metadata": {},
   "source": [
    "Paper Count Figures"
   ]
  },
  {
   "cell_type": "code",
   "execution_count": null,
   "metadata": {},
   "outputs": [],
   "source": [
    "df7Edu = pd.read_csv('../Data/Fig7Edu.csv')\n",
    "\n",
    "fig7E = sns.barplot(data=df7Edu,\n",
    "            x='Company',\n",
    "            y='Paper Count',\n",
    "            color='tab:blue'\n",
    "            )\n",
    "fig7E.set_xticklabels(fig7E.get_xticklabels(), rotation=40, ha=\"right\")\n",
    "plt.xlabel(\"\")\n",
    "plt.show()\n"
   ]
  },
  {
   "cell_type": "code",
   "execution_count": null,
   "metadata": {},
   "outputs": [],
   "source": [
    "df7Com = pd.read_csv('../Data/Fig7Com.csv')\n",
    "\n",
    "fig7C = sns.barplot(data=df7Com,\n",
    "            x='Company',\n",
    "            y='Paper Count',\n",
    "            color='tab:orange'\n",
    "            )\n",
    "fig7C.set_xticklabels(fig7C.get_xticklabels(), rotation=40, ha=\"right\")\n",
    "plt.xlabel(\"\")\n",
    "plt.show()\n"
   ]
  },
  {
   "cell_type": "markdown",
   "metadata": {},
   "source": [
    "Citation Count Figures"
   ]
  },
  {
   "cell_type": "code",
   "execution_count": null,
   "metadata": {},
   "outputs": [],
   "source": [
    "df8Edu = pd.read_csv('../Data/Fig8Edu.csv')\n",
    "\n",
    "fig8E = sns.barplot(data=df8Edu,\n",
    "            x='Company',\n",
    "            y='Citation Count',\n",
    "            color='tab:blue'\n",
    "            )\n",
    "fig8E.set_xticklabels(fig8E.get_xticklabels(), rotation=40, ha=\"right\")\n",
    "plt.xlabel(\"\")\n",
    "plt.ylabel(\"Total Citations\")\n",
    "plt.show()"
   ]
  },
  {
   "cell_type": "code",
   "execution_count": null,
   "metadata": {},
   "outputs": [],
   "source": [
    "df8Com = pd.read_csv('../Data/Fig8Com.csv')\n",
    "\n",
    "fig8C = sns.barplot(data=df8Com,\n",
    "            x='Company',\n",
    "            y='Citation Count',\n",
    "            color='tab:orange'\n",
    "            )\n",
    "fig8C.set_xticklabels(fig8C.get_xticklabels(), rotation=40, ha=\"right\")\n",
    "plt.xlabel(\"\")\n",
    "plt.ylabel(\"Total Citations\")\n",
    "plt.show()"
   ]
  },
  {
   "cell_type": "markdown",
   "metadata": {},
   "source": [
    "Publication and Citation Shares"
   ]
  },
  {
   "cell_type": "code",
   "execution_count": null,
   "metadata": {},
   "outputs": [],
   "source": [
    "sns.set(font_scale=2)"
   ]
  },
  {
   "cell_type": "code",
   "execution_count": null,
   "metadata": {},
   "outputs": [],
   "source": [
    "df9Com = pd.read_csv('../Data/Fig9Com.csv')\n",
    "\n",
    "colors = sns.color_palette()[0:6]\n",
    "explode = [0.1,0,0,0,0,0]\n",
    "\n",
    "fig91 = plt.figure(figsize =(10, 8))\n",
    "fig91 = plt.pie(df9Com['Papers'],\n",
    "                labels=df9Com['Company'],\n",
    "                labeldistance=None,\n",
    "                startangle=90,\n",
    "                pctdistance=0.8,\n",
    "                colors=colors,\n",
    "                autopct='%.0f%%',\n",
    "                explode=explode\n",
    "                )\n",
    "plt.legend(bbox_to_anchor =(1,0.75), ncol = 1)\n",
    "plt.show()"
   ]
  },
  {
   "cell_type": "code",
   "execution_count": null,
   "metadata": {},
   "outputs": [],
   "source": [
    "df9Com = pd.read_csv('../Data/Fig9Com.csv')\n",
    "\n",
    "colors = sns.color_palette()[0:6]\n",
    "explode = [0.1,0,0,0,0,0]\n",
    "\n",
    "fig92 = plt.figure(figsize =(10, 8))\n",
    "fig92 = plt.pie(df9Com['Citations'],\n",
    "                labels=df9Com['Company'],\n",
    "                labeldistance=None,\n",
    "                startangle=90,\n",
    "                pctdistance=0.8,\n",
    "                colors=colors,\n",
    "                autopct='%.0f%%',\n",
    "                explode=explode\n",
    "                )\n",
    "plt.legend(bbox_to_anchor =(1,0.75), ncol = 1)\n",
    "plt.show()"
   ]
  },
  {
   "cell_type": "markdown",
   "metadata": {},
   "source": [
    "Mean citations per sample"
   ]
  },
  {
   "cell_type": "code",
   "execution_count": null,
   "metadata": {},
   "outputs": [],
   "source": [
    "df3 = pd.read_csv('../Data/Fig3.csv',)\n",
    "\n",
    "fig3 = sns.barplot(data=df3,\n",
    "            x='Sample',\n",
    "            y='Average Citations',\n",
    "            hue='Type',\n",
    "            palette=['tab:blue','tab:orange','tab:grey']\n",
    "            )\n",
    "plt.legend(prop={'size': 16})\n",
    "plt.xlabel(\"\")\n",
    "plt.show()\n"
   ]
  },
  {
   "cell_type": "markdown",
   "metadata": {},
   "source": [
    "Boxplot"
   ]
  },
  {
   "cell_type": "code",
   "execution_count": null,
   "metadata": {},
   "outputs": [],
   "source": [
    "dfPapers = pd.read_csv('../Data/AllCit.tsv', sep='\\t')\n",
    "print(len(dfPapers.index))\n",
    "dfPapers.sort_values('CitationCount',ascending=False, inplace=True)\n",
    "\n",
    "# Remove all papers above the group-specific thresholds\n",
    "dfEdu = dfPapers[dfPapers['GroupType']=='Education']\n",
    "IQR = dfEdu['CitationCount'].quantile(.75)-dfEdu['CitationCount'].quantile(.25)\n",
    "limit = IQR*1.5\n",
    "print(limit)\n",
    "dfEdu = dfEdu.drop(dfEdu[dfEdu['CitationCount']>limit].index)\n",
    "dfCom = dfPapers[dfPapers['GroupType']=='Company']\n",
    "IQR = dfCom['CitationCount'].quantile(.75)-dfCom['CitationCount'].quantile(.25)\n",
    "limit = IQR*1.5\n",
    "print(limit)\n",
    "dfCom = dfCom.drop(dfCom[dfCom['CitationCount']>limit].index)\n",
    "dfBoth = dfPapers[dfPapers['GroupType']=='Cooperation']\n",
    "IQR = dfBoth['CitationCount'].quantile(.75)-dfBoth['CitationCount'].quantile(.25)\n",
    "limit = IQR*1.5\n",
    "print(limit)\n",
    "dfBoth = dfBoth.drop(dfBoth[dfBoth['CitationCount']>limit].index)\n",
    "\n",
    "# concat\n",
    "df = pd.concat([dfEdu,dfCom,dfBoth], ignore_index=True)\n",
    "print(len(df.index))\n",
    "\n",
    "# Boxplot\n",
    "#fig = plt.figure(figsize =(10, 8))\n",
    "fig4 = sns.boxplot( x='GroupType', y='CitationCount',\n",
    "            data=df, \n",
    "            showmeans=True, \n",
    "            meanprops={\"marker\": \"+\",\n",
    "                       \"markeredgecolor\": \"black\",\n",
    "                       \"markersize\": \"10\"},\n",
    "            palette=['tab:blue','tab:orange','tab:grey']\n",
    "            )\n",
    "sns.set(font_scale=1.75)\n",
    "plt.xlabel(\"\")\n",
    "plt.ylabel(\"Citations\")\n",
    "plt.show()"
   ]
  },
  {
   "cell_type": "markdown",
   "metadata": {},
   "source": [
    "Correlation Matrix"
   ]
  },
  {
   "cell_type": "code",
   "execution_count": null,
   "metadata": {},
   "outputs": [],
   "source": [
    "dfAllAlt = pd.read_csv('../Data/AllAlt.tsv', sep='\\t', header=0)\n",
    "df = dfAllAlt[['CitationCount','Score','Readers_count','Cited_by_accounts_count','GroupType']]\n",
    "df.rename(columns={ 'CitationCount':'Citations', 'Score':'Altmetric Score', 'Readers_count':'Online Readers', 'Cited_by_accounts_count':'Online Mentions'}, inplace = True)\n",
    "\n",
    "corr_df=df.corr(method=\"pearson\")\n",
    "plt.figure(figsize =(10, 8))\n",
    "plt.rc('font', size=12) \n",
    "fig10 = sns.heatmap(corr_df,annot=True)\n",
    "fig10.figure.tight_layout()\n",
    "plt.show()"
   ]
  },
  {
   "cell_type": "markdown",
   "metadata": {},
   "source": [
    "Tag Matches"
   ]
  },
  {
   "cell_type": "code",
   "execution_count": null,
   "metadata": {},
   "outputs": [],
   "source": [
    "df13 = pd.read_csv('../Data/Fig13.csv')\n",
    "df13 = df13.sort_values('Percent',ascending=False)\n",
    "\n",
    "colors=['tab:blue','tab:blue','tab:blue','tab:red','tab:blue','tab:blue','tab:blue','tab:blue','tab:blue','tab:blue','tab:blue',]\n",
    "fig13 = sns.barplot(data=df13,\n",
    "            x='Percent',\n",
    "            y='Subfield',\n",
    "            palette=colors\n",
    "            )\n",
    "\n",
    "plt.ylabel(\"\")\n",
    "plt.show()"
   ]
  },
  {
   "cell_type": "markdown",
   "metadata": {},
   "source": [
    "Scatterplot"
   ]
  },
  {
   "cell_type": "code",
   "execution_count": null,
   "metadata": {},
   "outputs": [],
   "source": [
    "dfAllAlt = pd.read_csv('../Data/AllAlt.tsv', sep='\\t', header=0)\n",
    "df = dfAllAlt[['CitationCount','Score','GroupType']]\n",
    "\n",
    "# Apply logarithmic scale and norm both metrics to 1\n",
    "df['CitationCount'] = np.log(df['CitationCount']+1)\n",
    "df['Score'] = np.log(df['Score']+0.75)\n",
    "df.rename(columns={ 'Score':'Altmetric Score', 'CitationCount':'Citation Count', 'GroupType': 'Group Type'}, inplace = True)\n",
    "\n",
    "\n",
    "# Calculated in zones, to be able to isolate Exceptionals, Influencers and Scholars\n",
    "df1 = df.loc[(df['Citation Count']>=np.log(43)) & (df['Altmetric Score']>=np.log(9)),]\n",
    "print(  'Exceptionals: ',\n",
    "        len(df1[df1['Group Type']=='Education'].index)/len(df[df['Group Type']=='Education'].index),\n",
    "        len(df1[df1['Group Type']=='Company'].index)/len(df[df['Group Type']=='Company'].index),\n",
    "        len(df1[df1['Group Type']=='Cooperation'].index)/len(df[df['Group Type']=='Cooperation'].index)\n",
    "    )\n",
    "df2 = df.loc[(df['Citation Count']<=np.log(3)) & (df['Altmetric Score']>=np.log(9)),]\n",
    "print(  'Influencers: ',\n",
    "        len(df2[df2['Group Type']=='Education'].index)/len(df[df['Group Type']=='Education'].index),\n",
    "        len(df2[df2['Group Type']=='Company'].index)/len(df[df['Group Type']=='Company'].index),\n",
    "        len(df2[df2['Group Type']=='Cooperation'].index)/len(df[df['Group Type']=='Cooperation'].index)\n",
    "    )\n",
    "df3 = df.loc[(df['Citation Count']>=np.log(43)) & (df['Altmetric Score']<=np.log(1.5)),]\n",
    "print(  'Scholars: ',\n",
    "        len(df3[df3['Group Type']=='Education'].index)/len(df[df['Group Type']=='Education'].index),\n",
    "        len(df3[df3['Group Type']=='Company'].index)/len(df[df['Group Type']=='Company'].index),\n",
    "        len(df3[df3['Group Type']=='Cooperation'].index)/len(df[df['Group Type']=='Cooperation'].index)\n",
    "    )\n",
    "\n",
    "# Scatterplot with borders\n",
    "sns.set(font_scale=2)\n",
    "plt.figure(figsize =(10, 8))\n",
    "plt.axvline(x=np.log(1.5), color='black', linestyle='dashed', linewidth=1.5, alpha=0.66)\n",
    "plt.axvline(x=np.log(9), color='black', linestyle='dashed', linewidth=1.5, alpha=0.66) \n",
    "plt.axhline(y=np.log(43), color='black', linestyle='dashed', linewidth=1.5, alpha=0.66)  \n",
    "plt.axhline(y=np.log(3), color='black', linestyle='dashed', linewidth=1.5)\n",
    "\n",
    "sns.scatterplot(data=df, x=\"Altmetric Score\", y=\"Citation Count\",  hue=\"Group Type\", palette=['tab:blue','tab:orange','tab:grey']) #, alpha=0.5\n",
    "sns.scatterplot(data=df1, x=\"Altmetric Score\", y=\"Citation Count\",  hue=\"Group Type\", legend=False, palette=['tab:blue','tab:orange','tab:grey'])\n",
    "sns.scatterplot(data=df2, x=\"Altmetric Score\", y=\"Citation Count\",  hue=\"Group Type\", legend=False, palette=['tab:blue','tab:orange','tab:grey'])\n",
    "sns.scatterplot(data=df3, x=\"Altmetric Score\", y=\"Citation Count\",  hue=\"Group Type\", legend=False, palette=['tab:blue','tab:orange','tab:grey'])\n",
    "\n",
    "plt.legend(loc ='upper left', prop={'size': 17})\n",
    "plt.ylabel(\"Citations\")\n",
    "plt.show()\n",
    "\n",
    "# Calculate the thresholds from above using this line\n",
    "#print(dfAllAlt['CitationCount'].describe(percentiles=[.2,.8,]), dfAllAlt['Score'].describe(percentiles=[.2,.8]))"
   ]
  }
 ],
 "metadata": {
  "kernelspec": {
   "display_name": "Python 3.8.10 64-bit",
   "language": "python",
   "name": "python3"
  },
  "language_info": {
   "codemirror_mode": {
    "name": "ipython",
    "version": 3
   },
   "file_extension": ".py",
   "mimetype": "text/x-python",
   "name": "python",
   "nbconvert_exporter": "python",
   "pygments_lexer": "ipython3",
   "version": "3.8.10"
  },
  "orig_nbformat": 4,
  "vscode": {
   "interpreter": {
    "hash": "71c4bab97be2a83de01c8bec6112333230de5470e347c2a61fb5c14c7b511996"
   }
  }
 },
 "nbformat": 4,
 "nbformat_minor": 2
}
