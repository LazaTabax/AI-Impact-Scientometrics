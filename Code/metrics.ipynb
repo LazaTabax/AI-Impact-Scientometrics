{
 "cells": [
  {
   "cell_type": "markdown",
   "metadata": {},
   "source": [
    "Calculation of metrics"
   ]
  },
  {
   "cell_type": "code",
   "execution_count": null,
   "metadata": {},
   "outputs": [],
   "source": [
    "import pandas as pd\n",
    "\n",
    "# load data\n",
    "dfAllCit = pd.read_csv('../Data/AllCit.tsv', sep='\\t')\n",
    "dfAllAlt = pd.read_csv('../Data/AllAlt.tsv', sep='\\t')"
   ]
  },
  {
   "cell_type": "code",
   "execution_count": null,
   "metadata": {},
   "outputs": [],
   "source": [
    "# Metric distributions across all groups\n",
    "print('Citation distribution: All Groups')\n",
    "print(dfAllCit['CitationCount'].describe(percentiles=[.5,.75,.9,.95,.99]))\n",
    "print('\\nAttention Score distribution: All Groups')\n",
    "print(dfAllAlt['Score'].describe(percentiles=[.5,.75,.9,.95,.99]))"
   ]
  },
  {
   "cell_type": "code",
   "execution_count": null,
   "metadata": {},
   "outputs": [],
   "source": [
    "# Method definitions for PR6 Approach\n",
    "def calculate_share(df, min, max=-1, metric='CitationCount'):\n",
    "    '''returns the share of papers that are in a class with\n",
    "    min being the lower class boundary (-1 in the first class) and max the upper class boundary (-1 in the last class)\n",
    "    for a metric\n",
    "    '''\n",
    "    if max == -1:\n",
    "        result = sum(df[metric]>min) /  len(df.index)\n",
    "    else:\n",
    "        result = sum((df[metric]>=min) & (df[metric]<max)) / len(df.index)\n",
    "    return result\n",
    "\n",
    "def store_PRClasses(dfAll, sample):\n",
    "    '''returns a dataframe containing the shares for each group and class, according to the sample-specific thresholds\n",
    "    '''\n",
    "    # Split the groups\n",
    "    dfEdu =  dfAll[dfAll['GroupType']=='Education']\n",
    "    dfCom =  dfAll[dfAll['GroupType']=='Company']\n",
    "    dfBoth = dfAll[dfAll['GroupType']=='Cooperation']\n",
    "\n",
    "    # Thresholds calculated from AllCit.tsv - 'Citation Count' (see cell as above)\n",
    "    if sample == 'Cit':\n",
    "        data = {'<50%':[calculate_share(dfEdu,-1,3),calculate_share(dfCom,-1,3),calculate_share(dfBoth,-1,3)], \n",
    "            '50%':[calculate_share(dfEdu,3,13),calculate_share(dfCom,3,13),calculate_share(dfBoth,3,13)],\n",
    "            '75%':[calculate_share(dfEdu,13,37),calculate_share(dfCom,13,37),calculate_share(dfBoth,13,37)], \n",
    "            '90%':[calculate_share(dfEdu,37,70.4),calculate_share(dfCom,37,70.4),calculate_share(dfBoth,37,70.4)],\n",
    "            '95%':[calculate_share(dfEdu,70.4,246),calculate_share(dfCom,70.4,246),calculate_share(dfBoth,70.4,246)],\n",
    "            '99%':[calculate_share(dfEdu,246),calculate_share(dfCom,246),calculate_share(dfBoth,246)] }\n",
    "\n",
    "    # Thresholds calculated from AllAlt.tsv - 'Score' (see cell as above)\n",
    "    elif sample == 'Score':\n",
    "        data = {'<50%':[calculate_share(dfEdu,-1,3,'Score'),calculate_share(dfCom,-1,3,'Score'),calculate_share(dfBoth,-1,3,'Score')], \n",
    "            '50%':[calculate_share(dfEdu,3,6.1,'Score'),calculate_share(dfCom,3,6.1,'Score'),calculate_share(dfBoth,3,6.1,'Score')],\n",
    "            '75%':[calculate_share(dfEdu,6.1,17.95,'Score'),calculate_share(dfCom,6.1,17.95,'Score'),calculate_share(dfBoth,6.1,17.95,'Score')], \n",
    "            '90%':[calculate_share(dfEdu,17.95,40.9433,'Score'),calculate_share(dfCom,17.95,40.9433,'Score'),calculate_share(dfBoth,17.95,40.9433,'Score')],\n",
    "            '95%':[calculate_share(dfEdu,40.9433,186.45864,'Score'),calculate_share(dfCom,40.9433,186.45864,'Score'),calculate_share(dfBoth,40.9433,186.45864,'Score')],\n",
    "            '99%':[calculate_share(dfEdu,186.45864,metric='Score'),calculate_share(dfCom,186.45864,metric='Score'),calculate_share(dfBoth,186.45864,metric='Score')] }\n",
    "\n",
    "\n",
    "    dfResults = pd.DataFrame(data=data, index=('Education','Company','Cooperation'))\n",
    "\n",
    "    return dfResults"
   ]
  },
  {
   "cell_type": "code",
   "execution_count": null,
   "metadata": {},
   "outputs": [],
   "source": [
    "#PR6 Results the for Citation Dataset\n",
    "dfPRClasses = store_PRClasses(dfAllCit,'Cit')\n",
    "dfGewichte = pd.DataFrame([1,2,3,4,5,6], index=['<50%','50%','75%','90%','95%','99%'])\n",
    "dfPRClasses['PR6-Weigthed-Score'] = dfPRClasses.dot(dfGewichte)\n",
    "print(dfPRClasses)"
   ]
  },
  {
   "cell_type": "code",
   "execution_count": null,
   "metadata": {},
   "outputs": [],
   "source": [
    "#PR6 Results the for Altmetric Dataset\n",
    "dfPRClasses = store_PRClasses(dfAllAlt,'Score')\n",
    "dfGewichte = pd.DataFrame([1,2,3,4,5,6], index=['<50%','50%','75%','90%','95%','99%'])\n",
    "dfPRClasses['PR6-Weigthed-Score'] = dfPRClasses.dot(dfGewichte)\n",
    "print(dfPRClasses)"
   ]
  }
 ],
 "metadata": {
  "kernelspec": {
   "display_name": "Python 3.8.10 64-bit",
   "language": "python",
   "name": "python3"
  },
  "language_info": {
   "codemirror_mode": {
    "name": "ipython",
    "version": 3
   },
   "file_extension": ".py",
   "mimetype": "text/x-python",
   "name": "python",
   "nbconvert_exporter": "python",
   "pygments_lexer": "ipython3",
   "version": "3.8.10"
  },
  "orig_nbformat": 4,
  "vscode": {
   "interpreter": {
    "hash": "71c4bab97be2a83de01c8bec6112333230de5470e347c2a61fb5c14c7b511996"
   }
  }
 },
 "nbformat": 4,
 "nbformat_minor": 2
}
